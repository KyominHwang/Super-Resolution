{
  "nbformat": 4,
  "nbformat_minor": 0,
  "metadata": {
    "colab": {
      "name": "make patch.ipynb",
      "provenance": [],
      "collapsed_sections": []
    },
    "kernelspec": {
      "name": "python3",
      "display_name": "Python 3"
    },
    "language_info": {
      "name": "python"
    }
  },
  "cells": [
    {
      "cell_type": "code",
      "execution_count": 6,
      "metadata": {
        "id": "5JzJO4wpbOUN"
      },
      "outputs": [],
      "source": [
        "import argparse\n",
        "from PIL import Image, ImageOps\n",
        "import os\n",
        "import numpy as np\n",
        "from math import floor\n",
        "from PIL import Image\n",
        "from tqdm import tqdm\n",
        "import torch\n",
        "from torchvision import transforms\n",
        "import random\n",
        "\n",
        "def crop(img_arr, block_size):\n",
        "    h_b, w_b = block_size\n",
        "    v_splited = np.vsplit(img_arr, img_arr.shape[0]//h_b)\n",
        "    h_splited = np.concatenate(\n",
        "        [np.hsplit(col, img_arr.shape[1]//w_b) for col in v_splited], 0)\n",
        "    return h_splited\n",
        "\n",
        "def generate_patches(src_path, files, set_path, crop_size, img_format):\n",
        "    img_path = os.path.join(src_path, files)\n",
        "    img = Image.open(img_path).convert('RGB')\n",
        "\n",
        "    name, _ = files.split('.')\n",
        "    filedir = os.path.join(set_path, 'a')\n",
        "    if not dir_exists(filedir):\n",
        "        mkdir(filedir)\n",
        "\n",
        "    img = np.array(img)\n",
        "    h, w = img.shape[0], img.shape[1]\n",
        "\n",
        "    if crop_size == None:\n",
        "        img = np.copy(img)\n",
        "        img_patches = np.expand_dims(img, 0)\n",
        "    else:\n",
        "        rem_h = (h % crop_size[0])\n",
        "        rem_w = (w % crop_size[1])\n",
        "        img = img[:h-rem_h, :w-rem_w]\n",
        "        img_patches = crop(img, crop_size)\n",
        "\n",
        "    n = 0\n",
        "\n",
        "    for i in range(len(img_patches)):\n",
        "        img = Image.fromarray(img_patches[i]).convert('RGB')\n",
        "        \n",
        "        img.save(\n",
        "            os.path.join(filedir, '{}_{}.{}'.format(name, i, img_format))\n",
        "        )\n",
        "\n",
        "        n += 1\n",
        "\n",
        "    return n\n",
        "def dir_exists(directory):\n",
        "    return os.path.exists(directory)\n",
        "  \n",
        "def mkdir(directory, mode=0o777):\n",
        "    if not os.path.exists(directory):\n",
        "        os.makedirs(directory)\n",
        "        os.chmod(directory, mode=mode)\n",
        "\n",
        "def main(target_dataset_folder, dataset_path, crop_size, img_format):\n",
        "    print('[ Creating Dataset ]')\n",
        "    print('Crop Size : {}'.format(crop_size))\n",
        "    print('Target       : {}'.format(target_dataset_folder))\n",
        "    print('Dataset       : {}'.format(dataset_path))\n",
        "    print('Format    : {}'.format(img_format))\n",
        "    src_path = dataset_path \n",
        "    set_path = target_dataset_folder\n",
        "\n",
        "    mkdir(set_path)\n",
        "\n",
        "    img_files = os.listdir(src_path)\n",
        "\n",
        "    max = len(img_files)\n",
        "    bar = tqdm(img_files)\n",
        "    i = 0\n",
        "    for files in bar:\n",
        "        k = generate_patches(src_path, files, set_path,\n",
        "                             crop_size, img_format)\n",
        "\n",
        "        bar.set_description(desc='itr: %d/%d' % (\n",
        "            i, max\n",
        "        ))\n",
        "        i += 1\n",
        "    print('Dataset Created')"
      ]
    },
    {
      "cell_type": "code",
      "source": [
        "main('/content/drive/MyDrive/superresolution/dataset/DIV2K_train_HR', '/content/drive/MyDrive/superresolution/DIV2K_train_HR', [128, 128], 'png')"
      ],
      "metadata": {
        "colab": {
          "base_uri": "https://localhost:8080/"
        },
        "id": "-pz2vfVBbm6n",
        "outputId": "91c46bbf-7d02-4c74-98e7-c3c9eee2888e"
      },
      "execution_count": 7,
      "outputs": [
        {
          "output_type": "stream",
          "name": "stdout",
          "text": [
            "[ Creating Dataset ]\n",
            "Crop Size : [128, 128]\n",
            "Target       : /content/drive/MyDrive/superresolution/dataset/DIV2K_train_HR\n",
            "Dataset       : /content/drive/MyDrive/superresolution/DIV2K_train_HR\n",
            "Format    : png\n"
          ]
        },
        {
          "output_type": "stream",
          "name": "stderr",
          "text": [
            "itr: 799/800: 100%|██████████| 800/800 [34:51<00:00,  2.61s/it]"
          ]
        },
        {
          "output_type": "stream",
          "name": "stdout",
          "text": [
            "Dataset Created\n"
          ]
        },
        {
          "output_type": "stream",
          "name": "stderr",
          "text": [
            "\n"
          ]
        }
      ]
    },
    {
      "cell_type": "code",
      "source": [
        "main('/content/drive/MyDrive/superresolution/dataset/DIV2K_valid_HR', '/content/drive/MyDrive/superresolution/DIV2K_valid_HR', [128, 128], 'png')"
      ],
      "metadata": {
        "colab": {
          "base_uri": "https://localhost:8080/"
        },
        "id": "rVFSsNH-cl_p",
        "outputId": "88887c92-999e-468f-dca1-12b8dac52715"
      },
      "execution_count": 8,
      "outputs": [
        {
          "output_type": "stream",
          "name": "stdout",
          "text": [
            "[ Creating Dataset ]\n",
            "Crop Size : [128, 128]\n",
            "Target       : /content/drive/MyDrive/superresolution/dataset/DIV2K_valid_HR\n",
            "Dataset       : /content/drive/MyDrive/superresolution/DIV2K_valid_HR\n",
            "Format    : png\n"
          ]
        },
        {
          "output_type": "stream",
          "name": "stderr",
          "text": [
            "itr: 99/100: 100%|██████████| 100/100 [06:22<00:00,  3.83s/it]"
          ]
        },
        {
          "output_type": "stream",
          "name": "stdout",
          "text": [
            "Dataset Created\n"
          ]
        },
        {
          "output_type": "stream",
          "name": "stderr",
          "text": [
            "\n"
          ]
        }
      ]
    },
    {
      "cell_type": "code",
      "source": [
        "main('/content/drive/MyDrive/superresolution/dataset/DIV2K_valid_LR_bicubic', '/content/drive/MyDrive/superresolution/DIV2K_valid_LR_bicubic/X2', [64, 64], 'png')"
      ],
      "metadata": {
        "colab": {
          "base_uri": "https://localhost:8080/"
        },
        "id": "7IdeO_ozc4HF",
        "outputId": "83852631-164e-4c05-ae57-e1c0e186ca8c"
      },
      "execution_count": 10,
      "outputs": [
        {
          "output_type": "stream",
          "name": "stdout",
          "text": [
            "[ Creating Dataset ]\n",
            "Crop Size : [64, 64]\n",
            "Target       : /content/drive/MyDrive/superresolution/dataset/DIV2K_valid_LR_bicubic\n",
            "Dataset       : /content/drive/MyDrive/superresolution/DIV2K_valid_LR_bicubic/X2\n",
            "Format    : png\n"
          ]
        },
        {
          "output_type": "stream",
          "name": "stderr",
          "text": [
            "itr: 99/100: 100%|██████████| 100/100 [04:51<00:00,  2.92s/it]"
          ]
        },
        {
          "output_type": "stream",
          "name": "stdout",
          "text": [
            "Dataset Created\n"
          ]
        },
        {
          "output_type": "stream",
          "name": "stderr",
          "text": [
            "\n"
          ]
        }
      ]
    },
    {
      "cell_type": "code",
      "source": [
        "main('/content/drive/MyDrive/superresolution/dataset/DIV2K_train_LR_bicubic', '/content/drive/MyDrive/superresolution/DIV2K_train_LR_bicubic/X2', [64, 64], 'png')"
      ],
      "metadata": {
        "colab": {
          "base_uri": "https://localhost:8080/"
        },
        "id": "gEfl1Ro4c8kG",
        "outputId": "666e074c-e39b-48a1-d7f8-a81fb966b238"
      },
      "execution_count": 11,
      "outputs": [
        {
          "output_type": "stream",
          "name": "stdout",
          "text": [
            "[ Creating Dataset ]\n",
            "Crop Size : [64, 64]\n",
            "Target       : /content/drive/MyDrive/superresolution/dataset/DIV2K_train_LR_bicubic\n",
            "Dataset       : /content/drive/MyDrive/superresolution/DIV2K_train_LR_bicubic/X2\n",
            "Format    : png\n"
          ]
        },
        {
          "output_type": "stream",
          "name": "stderr",
          "text": [
            "itr: 799/800: 100%|██████████| 800/800 [2:32:07<00:00, 11.41s/it]"
          ]
        },
        {
          "output_type": "stream",
          "name": "stdout",
          "text": [
            "Dataset Created\n"
          ]
        },
        {
          "output_type": "stream",
          "name": "stderr",
          "text": [
            "\n"
          ]
        }
      ]
    },
    {
      "cell_type": "code",
      "source": [
        ""
      ],
      "metadata": {
        "id": "Gu_8YPnFc_d1"
      },
      "execution_count": null,
      "outputs": []
    }
  ]
}